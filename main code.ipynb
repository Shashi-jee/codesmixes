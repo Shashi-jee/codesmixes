{
 "cells": [
  {
   "cell_type": "code",
   "execution_count": 35,
   "metadata": {},
   "outputs": [
    {
     "data": {
      "text/html": [
       "<div>\n",
       "<style scoped>\n",
       "    .dataframe tbody tr th:only-of-type {\n",
       "        vertical-align: middle;\n",
       "    }\n",
       "\n",
       "    .dataframe tbody tr th {\n",
       "        vertical-align: top;\n",
       "    }\n",
       "\n",
       "    .dataframe thead th {\n",
       "        text-align: right;\n",
       "    }\n",
       "</style>\n",
       "<table border=\"1\" class=\"dataframe\">\n",
       "  <thead>\n",
       "    <tr style=\"text-align: right;\">\n",
       "      <th></th>\n",
       "      <th>id</th>\n",
       "      <th>sentence</th>\n",
       "      <th>sentiment</th>\n",
       "    </tr>\n",
       "  </thead>\n",
       "  <tbody>\n",
       "    <tr>\n",
       "      <th>0</th>\n",
       "      <td>1</td>\n",
       "      <td>Keh to aese Rahe ho Jaise Pakistan wale Ni kar...</td>\n",
       "      <td>negative</td>\n",
       "    </tr>\n",
       "    <tr>\n",
       "      <th>1</th>\n",
       "      <td>4</td>\n",
       "      <td>Anu's Prerna and the way he ran for saving her...</td>\n",
       "      <td>positive</td>\n",
       "    </tr>\n",
       "    <tr>\n",
       "      <th>2</th>\n",
       "      <td>17</td>\n",
       "      <td>Shukar hai ye pathan nae warna PTM nay is pr b...</td>\n",
       "      <td>negative</td>\n",
       "    </tr>\n",
       "    <tr>\n",
       "      <th>3</th>\n",
       "      <td>18</td>\n",
       "      <td>Harsh pen decision Didn't have much option wit...</td>\n",
       "      <td>positive</td>\n",
       "    </tr>\n",
       "    <tr>\n",
       "      <th>4</th>\n",
       "      <td>26</td>\n",
       "      <td>Best luck sir World Cup ke liye bhot bhot subh...</td>\n",
       "      <td>positive</td>\n",
       "    </tr>\n",
       "    <tr>\n",
       "      <th>5</th>\n",
       "      <td>27</td>\n",
       "      <td>Yes Great dialogues one Also Chupke Chupke Chh...</td>\n",
       "      <td>positive</td>\n",
       "    </tr>\n",
       "    <tr>\n",
       "      <th>6</th>\n",
       "      <td>33</td>\n",
       "      <td>Tu tere baap ke liye jo bola wo kya tha bhadwe...</td>\n",
       "      <td>negative</td>\n",
       "    </tr>\n",
       "    <tr>\n",
       "      <th>7</th>\n",
       "      <td>34</td>\n",
       "      <td>I keep saying Kenyan rugby is beautiful save f...</td>\n",
       "      <td>positive</td>\n",
       "    </tr>\n",
       "    <tr>\n",
       "      <th>8</th>\n",
       "      <td>38</td>\n",
       "      <td>Desh bhakti baat wahi samajh sakte hai jo khud...</td>\n",
       "      <td>negative</td>\n",
       "    </tr>\n",
       "    <tr>\n",
       "      <th>9</th>\n",
       "      <td>41</td>\n",
       "      <td>Madarchod mulle ye mathura Nahi dikha tha jab ...</td>\n",
       "      <td>negative</td>\n",
       "    </tr>\n",
       "  </tbody>\n",
       "</table>\n",
       "</div>"
      ],
      "text/plain": [
       "   id                                           sentence sentiment\n",
       "0   1  Keh to aese Rahe ho Jaise Pakistan wale Ni kar...  negative\n",
       "1   4  Anu's Prerna and the way he ran for saving her...  positive\n",
       "2  17  Shukar hai ye pathan nae warna PTM nay is pr b...  negative\n",
       "3  18  Harsh pen decision Didn't have much option wit...  positive\n",
       "4  26  Best luck sir World Cup ke liye bhot bhot subh...  positive\n",
       "5  27  Yes Great dialogues one Also Chupke Chupke Chh...  positive\n",
       "6  33  Tu tere baap ke liye jo bola wo kya tha bhadwe...  negative\n",
       "7  34  I keep saying Kenyan rugby is beautiful save f...  positive\n",
       "8  38  Desh bhakti baat wahi samajh sakte hai jo khud...  negative\n",
       "9  41  Madarchod mulle ye mathura Nahi dikha tha jab ...  negative"
      ]
     },
     "execution_count": 35,
     "metadata": {},
     "output_type": "execute_result"
    }
   ],
   "source": [
    "import tensorflow as tf\n",
    "import pandas as pd\n",
    "import numpy as np\n",
    "import matplotlib.pyplot as plt\n",
    "\n",
    "# reading the data in a dataframe df\n",
    "#df = pd.read_csv(\"C:\\\\Users\\\\Harilal\\\\Desktop\\\\mini\\\\senti.xls\")\n",
    "df=pd.read_csv(\"C:\\\\Users\\\\Harilal\\\\Desktop\\\\projects\\\\mini\\\\senti.xls\")\n",
    "\n",
    "# printing the dataframe \n",
    "df.head(10)\n",
    "\n"
   ]
  },
  {
   "cell_type": "code",
   "execution_count": 36,
   "metadata": {},
   "outputs": [
    {
     "data": {
      "text/plain": [
       "positive    5626\n",
       "negative    4997\n",
       "Name: sentiment, dtype: int64"
      ]
     },
     "execution_count": 36,
     "metadata": {},
     "output_type": "execute_result"
    }
   ],
   "source": [
    "# drop the unnecessary columns\n",
    "df.drop('id', axis=1, inplace=True)\n",
    "df.head(10)\n",
    "\n",
    "df['sentiment'].value_counts()\n",
    "\n",
    "\n",
    "\n"
   ]
  },
  {
   "cell_type": "code",
   "execution_count": 37,
   "metadata": {},
   "outputs": [
    {
     "data": {
      "text/html": [
       "<div>\n",
       "<style scoped>\n",
       "    .dataframe tbody tr th:only-of-type {\n",
       "        vertical-align: middle;\n",
       "    }\n",
       "\n",
       "    .dataframe tbody tr th {\n",
       "        vertical-align: top;\n",
       "    }\n",
       "\n",
       "    .dataframe thead th {\n",
       "        text-align: right;\n",
       "    }\n",
       "</style>\n",
       "<table border=\"1\" class=\"dataframe\">\n",
       "  <thead>\n",
       "    <tr style=\"text-align: right;\">\n",
       "      <th></th>\n",
       "      <th>sentence</th>\n",
       "      <th>sentiment</th>\n",
       "    </tr>\n",
       "  </thead>\n",
       "  <tbody>\n",
       "    <tr>\n",
       "      <th>0</th>\n",
       "      <td>Keh to aese Rahe ho Jaise Pakistan wale Ni kar...</td>\n",
       "      <td>0</td>\n",
       "    </tr>\n",
       "    <tr>\n",
       "      <th>1</th>\n",
       "      <td>Anu's Prerna and the way he ran for saving her...</td>\n",
       "      <td>1</td>\n",
       "    </tr>\n",
       "    <tr>\n",
       "      <th>2</th>\n",
       "      <td>Shukar hai ye pathan nae warna PTM nay is pr b...</td>\n",
       "      <td>0</td>\n",
       "    </tr>\n",
       "    <tr>\n",
       "      <th>3</th>\n",
       "      <td>Harsh pen decision Didn't have much option wit...</td>\n",
       "      <td>1</td>\n",
       "    </tr>\n",
       "    <tr>\n",
       "      <th>4</th>\n",
       "      <td>Best luck sir World Cup ke liye bhot bhot subh...</td>\n",
       "      <td>1</td>\n",
       "    </tr>\n",
       "  </tbody>\n",
       "</table>\n",
       "</div>"
      ],
      "text/plain": [
       "                                            sentence  sentiment\n",
       "0  Keh to aese Rahe ho Jaise Pakistan wale Ni kar...          0\n",
       "1  Anu's Prerna and the way he ran for saving her...          1\n",
       "2  Shukar hai ye pathan nae warna PTM nay is pr b...          0\n",
       "3  Harsh pen decision Didn't have much option wit...          1\n",
       "4  Best luck sir World Cup ke liye bhot bhot subh...          1"
      ]
     },
     "execution_count": 37,
     "metadata": {},
     "output_type": "execute_result"
    }
   ],
   "source": [
    "#converting target variable to numeric labels\n",
    "df.sentiment = [ 1 if each == \"positive\" else 0 for each in df.sentiment]\n",
    "df.head()"
   ]
  },
  {
   "cell_type": "code",
   "execution_count": 38,
   "metadata": {},
   "outputs": [
    {
     "data": {
      "text/plain": [
       "0        0\n",
       "1        1\n",
       "2        0\n",
       "3        1\n",
       "4        1\n",
       "        ..\n",
       "10618    1\n",
       "10619    1\n",
       "10620    0\n",
       "10621    1\n",
       "10622    0\n",
       "Name: sentiment, Length: 10623, dtype: int64"
      ]
     },
     "execution_count": 38,
     "metadata": {},
     "output_type": "execute_result"
    }
   ],
   "source": [
    "df['sentiment']"
   ]
  },
  {
   "cell_type": "code",
   "execution_count": 39,
   "metadata": {},
   "outputs": [
    {
     "data": {
      "text/html": [
       "<div>\n",
       "<style scoped>\n",
       "    .dataframe tbody tr th:only-of-type {\n",
       "        vertical-align: middle;\n",
       "    }\n",
       "\n",
       "    .dataframe tbody tr th {\n",
       "        vertical-align: top;\n",
       "    }\n",
       "\n",
       "    .dataframe thead th {\n",
       "        text-align: right;\n",
       "    }\n",
       "</style>\n",
       "<table border=\"1\" class=\"dataframe\">\n",
       "  <thead>\n",
       "    <tr style=\"text-align: right;\">\n",
       "      <th></th>\n",
       "      <th>sentence</th>\n",
       "      <th>sentiment</th>\n",
       "    </tr>\n",
       "  </thead>\n",
       "  <tbody>\n",
       "    <tr>\n",
       "      <th>0</th>\n",
       "      <td>Keh to aese Rahe ho Jaise Pakistan wale Ni kar...</td>\n",
       "      <td>0</td>\n",
       "    </tr>\n",
       "    <tr>\n",
       "      <th>1</th>\n",
       "      <td>Anu's Prerna and the way he ran for saving her...</td>\n",
       "      <td>1</td>\n",
       "    </tr>\n",
       "    <tr>\n",
       "      <th>2</th>\n",
       "      <td>Shukar hai ye pathan nae warna PTM nay is pr b...</td>\n",
       "      <td>0</td>\n",
       "    </tr>\n",
       "    <tr>\n",
       "      <th>3</th>\n",
       "      <td>Harsh pen decision Didn't have much option wit...</td>\n",
       "      <td>1</td>\n",
       "    </tr>\n",
       "    <tr>\n",
       "      <th>4</th>\n",
       "      <td>Best luck sir World Cup ke liye bhot bhot subh...</td>\n",
       "      <td>1</td>\n",
       "    </tr>\n",
       "    <tr>\n",
       "      <th>5</th>\n",
       "      <td>Yes Great dialogues one Also Chupke Chupke Chh...</td>\n",
       "      <td>1</td>\n",
       "    </tr>\n",
       "    <tr>\n",
       "      <th>6</th>\n",
       "      <td>Tu tere baap ke liye jo bola wo kya tha bhadwe...</td>\n",
       "      <td>0</td>\n",
       "    </tr>\n",
       "    <tr>\n",
       "      <th>7</th>\n",
       "      <td>I keep saying Kenyan rugby is beautiful save f...</td>\n",
       "      <td>1</td>\n",
       "    </tr>\n",
       "    <tr>\n",
       "      <th>8</th>\n",
       "      <td>Desh bhakti baat wahi samajh sakte hai jo khud...</td>\n",
       "      <td>0</td>\n",
       "    </tr>\n",
       "    <tr>\n",
       "      <th>9</th>\n",
       "      <td>Madarchod mulle ye mathura Nahi dikha tha jab ...</td>\n",
       "      <td>0</td>\n",
       "    </tr>\n",
       "  </tbody>\n",
       "</table>\n",
       "</div>"
      ],
      "text/plain": [
       "                                            sentence  sentiment\n",
       "0  Keh to aese Rahe ho Jaise Pakistan wale Ni kar...          0\n",
       "1  Anu's Prerna and the way he ran for saving her...          1\n",
       "2  Shukar hai ye pathan nae warna PTM nay is pr b...          0\n",
       "3  Harsh pen decision Didn't have much option wit...          1\n",
       "4  Best luck sir World Cup ke liye bhot bhot subh...          1\n",
       "5  Yes Great dialogues one Also Chupke Chupke Chh...          1\n",
       "6  Tu tere baap ke liye jo bola wo kya tha bhadwe...          0\n",
       "7  I keep saying Kenyan rugby is beautiful save f...          1\n",
       "8  Desh bhakti baat wahi samajh sakte hai jo khud...          0\n",
       "9  Madarchod mulle ye mathura Nahi dikha tha jab ...          0"
      ]
     },
     "execution_count": 39,
     "metadata": {},
     "output_type": "execute_result"
    }
   ],
   "source": [
    "import re\n",
    "\n",
    "def text_cleaning(text):\n",
    "  text = re.sub(r'@[A-Za-z0-9]+', '', text)     # removing @mentions\n",
    "  text = re.sub(r'@[A-Za-zA-Z0-9]+', '', text)  # removing @mentions \n",
    "  text = re.sub(r'@[A-Za-z]+', '', text)        # removing @mentions\n",
    "  text = re.sub(r'@[-)]+', '', text)            # removing @mentions\n",
    "  text = re.sub(r'#', '', text )                # removing '#' sign\n",
    "  text = re.sub(r'RT[\\s]+', '', text)           # removing RT\n",
    "  text = re.sub(r'https?\\/\\/\\S+', '', text)     # removing the hyper link\n",
    "  text = re.sub(r'&[a-z;]+', '', text)          # removing '&gt;'\n",
    "\n",
    "  return text\n",
    "\n",
    "# applying the text cleaning function on tweets\n",
    "df['sentence'] = df['sentence'].apply(text_cleaning)\n",
    "df.head(10)\n",
    "\n",
    "    \n",
    "\n",
    "\n"
   ]
  },
  {
   "cell_type": "code",
   "execution_count": 40,
   "metadata": {},
   "outputs": [],
   "source": [
    "#removes all emojis\n",
    "def deEmojify(inputString):\n",
    "    return inputString.encode('ascii', 'ignore').decode('ascii')"
   ]
  },
  {
   "cell_type": "code",
   "execution_count": 41,
   "metadata": {},
   "outputs": [],
   "source": [
    "def contractions():\n",
    "    \n",
    "    return {\n",
    "        \"ain't\":\"is not\",\n",
    "        \"amn't\":\"am not\",\n",
    "        \"aren't\":\"are not\",\n",
    "        \"can't\":\"cannot\",\n",
    "        \"'cause\":\"because\",\n",
    "        \"couldn't\":\"could not\",\n",
    "        \"couldn't've\":\"could not have\",\n",
    "        \"could've\":\"could have\",\n",
    "        \"daren't\":\"dare not\",\n",
    "        \"daresn't\":\"dare not\",\n",
    "        \"dasn't\":\"dare not\",\n",
    "        \"didn't\":\"did not\",\n",
    "        \"doesn't\":\"does not\",\n",
    "        \"don't\":\"do not\",\n",
    "        \"e'er\":\"ever\",\n",
    "        \"em\":\"them\",\n",
    "        \"everyone's\":\"everyone is\",\n",
    "        \"finna\":\"fixing to\",\n",
    "        \"gimme\":\"give me\",\n",
    "        \"gonna\":\"going to\",\n",
    "        \"gon't\":\"go not\",\n",
    "        \"gotta\":\"got to\",\n",
    "        \"hadn't\":\"had not\",\n",
    "        \"hasn't\":\"has not\",\n",
    "        \"haven't\":\"have not\",\n",
    "        \"he'd\":\"he would\",\n",
    "        \"he'll\":\"he will\",\n",
    "        \"he's\":\"he is\",\n",
    "        \"he've\":\"he have\",\n",
    "        \"how'd\":\"how would\",\n",
    "        \"how'll\":\"how will\",\n",
    "        \"how're\":\"how are\",\n",
    "        \"how's\":\"how is\",\n",
    "        \"ily\":\"I love you\",\n",
    "        \"Ily\":\"I love you\",\n",
    "        \"Ihy\":\"I hate you\",\n",
    "        \"ihy\":\"I hate you\",\n",
    "        \"imy\":\"I miss you\",\n",
    "        \"Imy\":\"I miss you\",\n",
    "        \"I'd\":\"I would\",\n",
    "        \"I'll\":\"I will\",\n",
    "        \"I'm\":\"I am\",\n",
    "        \"im\":\"I am\",\n",
    "        \"I'm'a\":\"I am about to\",\n",
    "        \"I'm'o\":\"I am going to\",\n",
    "        \"isn't\":\"is not\",\n",
    "        \"it'd\":\"it would\",\n",
    "        \"it'll\":\"it will\",\n",
    "        \"it's\":\"it is\",\n",
    "        \"I've\":\"I have\",\n",
    "        \"kinda\":\"kind of\",\n",
    "        \"let's\":\"let us\",\n",
    "        \"mayn't\":\"may not\",\n",
    "        \"may've\":\"may have\",\n",
    "        \"mightn't\":\"might not\",\n",
    "        \"might've\":\"might have\",\n",
    "        \"mustn't\":\"must not\",\n",
    "        \"mustn't've\":\"must not have\",\n",
    "        \"must've\":\"must have\",\n",
    "        \"needn't\":\"need not\",\n",
    "        \"ne'er\":\"never\",\n",
    "        \"o'\":\"of\",\n",
    "        \"o'er\":\"over\",\n",
    "        \"ol'\":\"old\",\n",
    "        \"oughtn't\":\"ought not\",\n",
    "        \"shalln't\":\"shall not\",\n",
    "        \"shan't\":\"shall not\",\n",
    "        \"she'd\":\"she would\",\n",
    "        \"she'll\":\"she will\",\n",
    "        \"she's\":\"she is\",\n",
    "        \"shouldn't\":\"should not\",\n",
    "        \"shouldn't've\":\"should not have\",\n",
    "        \"should've\":\"should have\",\n",
    "        \"somebody's\":\"somebody is\",\n",
    "        \"someone's\":\"someone is\",\n",
    "        \"something's\":\"something is\",\n",
    "        \"that'd\":\"that would\",\n",
    "        \"that'll\":\"that will\",\n",
    "        \"that're\":\"that are\",\n",
    "        \"that's\":\"that is\",\n",
    "        \"there'd\":\"there would\",\n",
    "        \"there'll\":\"there will\",\n",
    "        \"there're\":\"there are\",\n",
    "        \"there's\":\"there is\",\n",
    "        \"these're\":\"these are\",\n",
    "        \"they'd\":\"they would\",\n",
    "        \"they'll\":\"they will\",\n",
    "        \"they're\":\"they are\",\n",
    "        \"they've\":\"they have\",\n",
    "        \"this's\":\"this is\",\n",
    "        \"those're\":\"those are\",\n",
    "        \"'tis\":\"it is\",\n",
    "        \"'twas\":\"it was\",\n",
    "        \"wanna\":\"want to\",\n",
    "        \"wasn't\":\"was not\",\n",
    "        \"we'd\":\"we would\",\n",
    "        \"we'd've\":\"we would have\",\n",
    "        \"we'll\":\"we will\",\n",
    "        \"we're\":\"we are\",\n",
    "        \"weren't\":\"were not\",\n",
    "        \"we've\":\"we have\",\n",
    "        \"what'd\":\"what did\",\n",
    "        \"what'll\":\"what will\",\n",
    "        \"what're\":\"what are\",\n",
    "        \"what's\":\"what is\",\n",
    "        \"what've\":\"what have\",\n",
    "        \"when's\":\"when is\",\n",
    "        \"where'd\":\"where did\",\n",
    "        \"where're\":\"where are\",\n",
    "        \"where's\":\"where is\",\n",
    "        \"where've\":\"where have\",\n",
    "        \"which's\":\"which is\",\n",
    "        \"who'd\":\"who would\",\n",
    "        \"who'd've\":\"who would have\",\n",
    "        \"who'll\":\"who will\",\n",
    "        \"who're\":\"who are\",\n",
    "        \"who's\":\"who is\",\n",
    "        \"who've\":\"who have\",\n",
    "        \"why'd\":\"why did\",\n",
    "        \"why're\":\"why are\",\n",
    "        \"why's\":\"why is\",\n",
    "        \"won't\":\"will not\",\n",
    "        \"wouldn't\":\"would not\",\n",
    "        \"would've\":\"would have\",\n",
    "        \"y'all\":\"you all\",\n",
    "        \"you'd\":\"you would\",\n",
    "        \"you'll\":\"you will\",\n",
    "        \"you're\":\"you are\",\n",
    "        \"you've\":\"you have\",\n",
    "        \"Whatcha\":\"What are you\",\n",
    "        \"luv\":\"love\",\n",
    "        \"sux\":\"sucks\",\n",
    "        \"shit\":\"bad\",\n",
    "        \"tmr\":\"tomorrow\",\n",
    "        \"tmrw\":\"tomorrow\",\n",
    "        \"u\":\"you\",\n",
    "        \"ur\":\"your\",\n",
    "        \"k\":\"okay\",\n",
    "        \"ok\":\"okay\",\n",
    "        \"da\":\"the\",\n",
    "        \"tom\":\"tomorrow\",\n",
    "        \"Tom\":\"tomorrow\",\n",
    "        \"v'll\":\"we will\",\n",
    "        \"wassup\":\"what is up with you\",\n",
    "        \"waddup\":\"what is up with you\",\n",
    "        \"yo\":\"greet\",\n",
    "        \"hey\":\"greet\",\n",
    "        \"lol\":\"laugh\",\n",
    "        \"lmao\":\"laugh\",\n",
    "        \"Lmao\":\"laugh\",\n",
    "        \"rofl\":\"laugh\",\n",
    "        \"y\":\"why\",\n",
    "        \"wut\":\"what\",\n",
    "        \"wat\":\"what\",\n",
    "        \"stfu\":\"angry\",\n",
    "        \"wtf\":\"angry\",\n",
    "        \"ya\":\"yes\",\n",
    "        \"yeah\":\"yes\",\n",
    "        \"ummmm\":\"confused\",\n",
    "        \"ummm\":\"confused\",\n",
    "        \"umm\":\"confused\",\n",
    "        \"hmmm\":\"confused\",\n",
    "        \"i'm\":\"I am\",\n",
    "        \"awww\":\"amazement\",\n",
    "        \"Awww\":\"amazement\",\n",
    "        \"aww\":\"amazement\",\n",
    "        \"Aww\":\"amazement\",\n",
    "        \"can't\":\"cannot\",\n",
    "        \"Can't\":\"cannot\",\n",
    "        \"CAN'T\":\"cannot\",\n",
    "        \"awe\":\"amazement\",\n",
    "        \"Awe\":\"amazement\",\n",
    "        \"ugh\":\"sad\",\n",
    "        \"ughh\":\"sad\",\n",
    "        \"Ugh\":\"sad\",\n",
    "        \"Ughh\":\"sad\",\n",
    "        \"UGHH\":\"sad\",\n",
    "        \"ughhhh\":\"sad\",\n",
    "        \"ughhh\":\"sad\"\n",
    "        }\n",
    "\n"
   ]
  },
  {
   "cell_type": "code",
   "execution_count": 42,
   "metadata": {},
   "outputs": [],
   "source": [
    "def emoticons():\n",
    "    \n",
    "    return {\n",
    "        \":)\":\"smiley\",\n",
    "        \":‑)\":\"smiley\",\n",
    "        \":-]\":\"smiley\",\n",
    "        \":-3\":\"smiley\",\n",
    "        \":->\":\"smiley\",\n",
    "        \"8-)\":\"smiley\",\n",
    "        \":-}\":\"smiley\",\n",
    "        \":)\":\"smiley\",\n",
    "        \":]\":\"smiley\",\n",
    "        \":3\":\"smiley\",\n",
    "        \":>\":\"smiley\",\n",
    "        \"8)\":\"smiley\",\n",
    "        \":}\":\"smiley\",\n",
    "        \":o)\":\"smiley\",\n",
    "        \":c)\":\"smiley\",\n",
    "        \":^)\":\"smiley\",\n",
    "        \"=]\":\"smiley\",\n",
    "        \"=)\":\"smiley\",\n",
    "        \":-))\":\"smiley\",\n",
    "        \":‑D\":\"smiley\",\n",
    "        \"8‑D\":\"smiley\",\n",
    "        \"x‑D\":\"smiley\",\n",
    "        \"X‑D\":\"smiley\",\n",
    "        \":D\":\"smiley\",\n",
    "        \"8D\":\"smiley\",\n",
    "        \"xD\":\"smiley\",\n",
    "        \"XD\":\"smiley\",\n",
    "        \":‑(\":\"sad\",\n",
    "        \":‑c\":\"sad\",\n",
    "        \":‑<\":\"sad\",\n",
    "        \":‑[\":\"sad\",\n",
    "        \":(\":\"sad\",\n",
    "        \":c\":\"sad\",\n",
    "        \":<\":\"sad\",\n",
    "        \":[\":\"sad\",\n",
    "        \":-||\":\"sad\",\n",
    "        \">:[\":\"sad\",\n",
    "        \":{\":\"sad\",\n",
    "        \":@\":\"sad\",\n",
    "        \">:(\":\"sad\",\n",
    "        \":'‑(\":\"sad\",\n",
    "        \":'(\":\"sad\",\n",
    "        \":((((\":\"sad\",\n",
    "        \":(((\":\"sad\",\n",
    "        \":((\":\"sad\",\n",
    "        \":(\":\"sad\",\n",
    "        \":/\":\"sad\",\n",
    "        \":///\":\"sad\",\n",
    "        \":////\":\"sad\",\n",
    "        \"://///\":\"sad\",\n",
    "        \"://\":\"sad\",\n",
    "        \":///////\":\"sad\",\n",
    "        \":////\":\"sad\",\n",
    "        \"-_-\":\"angry\",\n",
    "        \":|\":\"normal\",\n",
    "        \";)\":\"playful\",\n",
    "        \";D\":\"playful\",\n",
    "        \":‑P\":\"playful\",\n",
    "        \"X‑P\":\"playful\",\n",
    "        \"x‑p\":\"playful\",\n",
    "        \":‑p\":\"playful\",\n",
    "        \":‑Þ\":\"playful\",\n",
    "        \":‑þ\":\"playful\",\n",
    "        \":‑b\":\"playful\",\n",
    "        \":P\":\"playful\",\n",
    "        \"XP\":\"playful\",\n",
    "        \"xp\":\"playful\",\n",
    "        \":p\":\"playful\",\n",
    "        \":Þ\":\"playful\",\n",
    "        \":þ\":\"playful\",\n",
    "        \":b\":\"playful\",\n",
    "        \"<3\":\"love\"\n",
    "        }\n",
    "\n",
    "\n"
   ]
  },
  {
   "cell_type": "code",
   "execution_count": 43,
   "metadata": {},
   "outputs": [
    {
     "name": "stderr",
     "output_type": "stream",
     "text": [
      "[nltk_data] Downloading package stopwords to\n",
      "[nltk_data]     C:\\Users\\Harilal\\AppData\\Roaming\\nltk_data...\n",
      "[nltk_data]   Package stopwords is already up-to-date!\n"
     ]
    },
    {
     "data": {
      "text/plain": [
       "True"
      ]
     },
     "execution_count": 43,
     "metadata": {},
     "output_type": "execute_result"
    }
   ],
   "source": [
    "import nltk\n",
    "nltk.download('stopwords')"
   ]
  },
  {
   "cell_type": "code",
   "execution_count": 44,
   "metadata": {},
   "outputs": [
    {
     "name": "stdout",
     "output_type": "stream",
     "text": [
      "Requirement already satisfied: emoji in c:\\users\\harilal\\anaconda3\\lib\\site-packages (2.2.0)\n",
      "Note: you may need to restart the kernel to use updated packages.\n"
     ]
    }
   ],
   "source": [
    "pip install emoji"
   ]
  },
  {
   "cell_type": "code",
   "execution_count": 45,
   "metadata": {},
   "outputs": [],
   "source": [
    "from nltk.corpus import stopwords\n",
    "from nltk.tokenize import word_tokenize\n",
    "from nltk.tokenize import sent_tokenize\n",
    "import re,string\n",
    "import emoji\n",
    "def removal_of_noise(sent):\n",
    "    clean_sent=[]\n",
    "    temp_st=\"\"\n",
    "    list_sent=sent.split(\" \")\n",
    "    c=0\n",
    "    d=contractions()\n",
    "    emoji=emoticons()\n",
    "    for word in list_sent:\n",
    "        #removal of url\n",
    "        word = re.sub(r\"http\\S+\", \"\", word)\n",
    "        word = re.sub(r\"[www.][a-zA-Z0-9_]+[.com]\", \"\", word)\n",
    "        #removal of account handles '@'\n",
    "        word = re.sub(\"(@[A-Za-z0-9_]+)\",\"\", word) \n",
    "        \n",
    "        #replacing emoticons with their respective words\n",
    "        if(word in emoji.keys()):\n",
    "            word=emoji[word]\n",
    "        #replacing short form words with their full form\n",
    "        if(word.lower() in d.keys()):\n",
    "            word=d[word.lower()]\n",
    "        if(c==0):\n",
    "            temp_st=word\n",
    "        else:\n",
    "            temp_st=temp_st+\" \"+word\n",
    "        c=c+1\n",
    "    sent=temp_st\n",
    "    stop_words = set(stopwords.words('english'))\n",
    "    stop_words.add('is')\n",
    "    stop_words.remove('not')\n",
    "    for word in word_tokenize(sent):\n",
    "        if(word.lower() not in stop_words and word.lower() not in string.punctuation and word!=\"'\" and word!='\"' ):\n",
    "            #print(word)\n",
    "            \n",
    "            word=re.sub(\"[0-9]+\",\"\",str(word))\n",
    "            word=re.sub(\"[.]+\",\" \",word)\n",
    "            word=re.sub(\"[-]+\",\" \",word)\n",
    "            word=re.sub(\"[_]+\",\" \",word)\n",
    "            word = re.sub(\"~\",\" \", word) \n",
    "            if(len(word)!=1):\n",
    "                clean_sent.append(word.lower())\n",
    "    cleaned_st=\"\"\n",
    "    for i in clean_sent:\n",
    "        cleaned_st=cleaned_st+\" \"+i\n",
    "    #print(cleaned_st)\n",
    "    return cleaned_st\n",
    "\n",
    "df['sentence']=df['sentence'].apply(removal_of_noise)\n"
   ]
  },
  {
   "cell_type": "code",
   "execution_count": 46,
   "metadata": {},
   "outputs": [],
   "source": [
    "import os\n",
    "os.environ[\"TF_CPP_MIN_LOG_LEVEL\"] = \"2\"\n",
    "import tensorflow as tf\n",
    "from tensorflow import keras\n",
    "from tensorflow.keras import layers\n",
    "import pandas as pd\n",
    "import numpy as np\n",
    "from sklearn.model_selection import train_test_split\n",
    "from sklearn.svm import SVC\n",
    "from tensorflow.keras.preprocessing.text import Tokenizer\n",
    "from tensorflow.keras.preprocessing.sequence import pad_sequences\n",
    "import tensorflow.keras.backend as K\n",
    "from tensorflow.keras.models import load_model\n",
    "from tensorflow.keras.models import Sequential, Model\n",
    "from tensorflow.keras.layers import Input, Dense, Embedding, Conv1D, MaxPool1D, Dropout, SimpleRNN, LSTM, Conv2D\n",
    "from tensorflow.keras.layers import Flatten\n",
    "from tensorflow.keras.preprocessing import sequence\n",
    "from tensorflow.keras.layers import Input, Dense, Embedding, LSTM, GlobalMaxPooling1D\n",
    "from tensorflow.keras.models import Model\n",
    "\n",
    "\n"
   ]
  },
  {
   "cell_type": "code",
   "execution_count": 47,
   "metadata": {},
   "outputs": [],
   "source": [
    "def negation_handler(sentence):\t\n",
    "    temp = int(0)\n",
    "    for i in range(len(sentence)):\n",
    "        if sentence[i-1] in ['not',\"n't\"]:\n",
    "            antonyms = []\n",
    "            for syn in wordnet.synsets(sentence[i]):\n",
    "                syns = wordnet.synsets(sentence[i])\n",
    "                w1 = syns[0].name()\n",
    "                temp = 0\n",
    "                for l in syn.lemmas():\n",
    "                    if l.antonyms():\n",
    "                        antonyms.append(l.antonyms()[0].name())\n",
    "                max_dissimilarity = 0\n",
    "                for ant in antonyms:\n",
    "                    syns = wordnet.synsets(ant)\n",
    "                    w2 = syns[0].name()\n",
    "                    syns = wordnet.synsets(sentence[i])\n",
    "                    w1 = syns[0].name()\n",
    "                    word1 = wordnet.synset(w1)\n",
    "                    word2 = wordnet.synset(w2)\n",
    "                    if isinstance(word1.wup_similarity(word2), float) or isinstance(word1.wup_similarity(word2), int):\n",
    "                        temp = 1 - word1.wup_similarity(word2)\n",
    "                    if temp>max_dissimilarity:\n",
    "                        max_dissimilarity = temp\n",
    "                        antonym_max = ant\n",
    "                        sentence[i] = antonym_max\n",
    "                        sentence[i-1] = ''\n",
    "    return sentence\n",
    "df['sentence']=df['sentence'].apply(negation_handler)\n"
   ]
  },
  {
   "cell_type": "code",
   "execution_count": 91,
   "metadata": {},
   "outputs": [],
   "source": [
    "'''\n",
    "X = df['sentence']\n",
    "y = df['sentiment']\n",
    "X_train, X_test, y_train, y_test = train_test_split(X, y, test_size = 0.2, random_state=42)\n",
    "\n",
    "def createModel():\n",
    "    model = keras.Sequential()\n",
    "    model.add(layers.Embedding(vocab_size, embedding_dim, input_length=maxlen))\n",
    "    model.add(layers.Conv1D(256, 5, activation='relu'))\n",
    "    model.add(layers.MaxPooling1D())\n",
    "    model.add(LSTM(64, return_sequences=True))\n",
    "    model.add(layers.Flatten())\n",
    "    model.add(layers.Dense(512, activation='relu'))\n",
    "    model.add(layers.Dense(64, activation='relu'))\n",
    "    model.add(layers.Dense(1, activation='softmax'))\n",
    "    return model'''\n",
    "\n"
   ]
  },
  {
   "cell_type": "code",
   "execution_count": 48,
   "metadata": {},
   "outputs": [
    {
     "name": "stdout",
     "output_type": "stream",
     "text": [
      "The size of datatset vocab is:  21980\n",
      "The length of training sequence is:  80\n",
      "The length of testing sequence is:  80\n"
     ]
    }
   ],
   "source": [
    "# splitting the data into training and testing data\n",
    "\n",
    "\n",
    "\n",
    "# converting the strings into integers using Tokenizer \n",
    "from tensorflow.keras.preprocessing.text import Tokenizer\n",
    "from tensorflow.keras.preprocessing.sequence import pad_sequences \n",
    "X = df['sentence']\n",
    "y = df['sentiment']\n",
    "X_train, X_test, y_train, y_test = train_test_split(X, y, test_size = 0.2, random_state=42)\n",
    "\n",
    "# instantiating the tokenizer\n",
    "max_vocab = 20000000\n",
    "tokenizer = Tokenizer(num_words=max_vocab)\n",
    "tokenizer.fit_on_texts(X_train)\n",
    "\n",
    "# checking the word index and find out the vocabulary of the dataset\n",
    "wordidx = tokenizer.word_index\n",
    "V = len(wordidx)\n",
    "print('The size of datatset vocab is: ', V)\n",
    "\n",
    "# converting tran and test sentences into sequences\n",
    "X_train = tokenizer.texts_to_sequences(X_train)\n",
    "X_test = tokenizer.texts_to_sequences(X_test)\n",
    "\n",
    "\n",
    "# padding the sequences to get equal length sequence because its conventional to use same size sequences\n",
    "# padding the traing sequence\n",
    "X_train = pad_sequences(X_train)\n",
    "T = X_train.shape[1]\n",
    "print('The length of training sequence is: ', T)\n",
    "\n",
    "# padding the test sequence\n",
    "X_test = pad_sequences(X_test, maxlen=T)\n",
    "print('The length of testing sequence is: ', X_test.shape[1])\n",
    "\n"
   ]
  },
  {
   "cell_type": "code",
   "execution_count": 49,
   "metadata": {},
   "outputs": [],
   "source": [
    "from tensorflow.keras.layers import Input, Dense, Embedding, LSTM, GlobalMaxPooling1D\n",
    "from tensorflow.keras.models import Model\n",
    "import keras\n",
    "i = Input (shape=(T, )) \n",
    "x=Embedding(28000,32, input_length=100)(i)\n",
    "x=Conv1D(256, 3, activation='relu', input_shape=(178, 1), padding='same')(x)\n",
    "x=MaxPool1D(2)(x)\n",
    "x=Dropout(0.3)(x)\n",
    "x=Conv1D(128, 3, activation='relu', padding='same')(x)\n",
    "x=MaxPool1D(2)(x)\n",
    "x=Dropout(0.2)(x)\n",
    "x=LSTM(64, return_sequences=True)(x)\n",
    "x=keras.layers.Bidirectional(keras.layers.LSTM(64))(x)\n",
    "\n",
    "x=Flatten()(x)\n",
    "x=Dense(260, activation='relu')(x)\n",
    "x=Dropout(0.2)(x)\n",
    "\n",
    "x=Dense(1, activation='sigmoid')(x)\n",
    "model=Model(i,x)"
   ]
  },
  {
   "cell_type": "code",
   "execution_count": 50,
   "metadata": {},
   "outputs": [],
   "source": [
    "def f1_metric(y_true, y_pred):\n",
    "    true_positives = K.sum(K.round(K.clip(y_true * y_pred, 0, 1)))\n",
    "    possible_positives = K.sum(K.round(K.clip(y_true, 0, 1)))\n",
    "    predicted_positives = K.sum(K.round(K.clip(y_pred, 0, 1)))\n",
    "    precision = true_positives / (predicted_positives + K.epsilon())\n",
    "    recall = true_positives / (possible_positives + K.epsilon())\n",
    "    f1_val = 2*(precision*recall)/(precision+recall+K.epsilon())\n",
    "    return f1_val\n",
    "\n"
   ]
  },
  {
   "cell_type": "code",
   "execution_count": 13,
   "metadata": {},
   "outputs": [],
   "source": [
    "'''puncList = [\"।\", \"”\", \"“\", \"’\"]\n",
    "x = \"\".join(puncList)\n",
    "filterString = x + '!\"#$%&()*+,-./:;<=>?@[\\\\]^_`{|}~\\t\\n০১২৩৪৫৬৭৮৯'\n",
    "tokenizer = Tokenizer(filters=filterString, lower=False,oov_token='<OOV>')\n",
    "tokenizer.fit_on_texts(X_train)\n",
    "X_train = tokenizer.texts_to_sequences(X_train)\n",
    "X_test = tokenizer.texts_to_sequences(X_test)\n",
    "\n",
    "vocab_size = len(tokenizer.word_index)+1\n",
    "maxlen = 800\n",
    "X_train = pad_sequences(X_train, padding='post', maxlen=maxlen)\n",
    "X_test = pad_sequences(X_test, padding='post', maxlen=maxlen)'''\n",
    "    \n"
   ]
  },
  {
   "cell_type": "code",
   "execution_count": 53,
   "metadata": {},
   "outputs": [
    {
     "name": "stdout",
     "output_type": "stream",
     "text": [
      "532/532 [==============================] - 66s 94ms/step - loss: 0.4277 - f1_metric: 0.8078 - val_loss: 0.3487 - val_f1_metric: 0.8608\n"
     ]
    }
   ],
   "source": [
    "\n",
    "model.compile(optimizer='adam', loss='binary_crossentropy', metrics=[f1_metric])\n",
    "history = model.fit(X_train, y_train, validation_data=(X_test, y_test),epochs=1, batch_size=16)\n",
    "\n",
    "\n"
   ]
  },
  {
   "cell_type": "code",
   "execution_count": 54,
   "metadata": {},
   "outputs": [
    {
     "name": "stdout",
     "output_type": "stream",
     "text": [
      "Evaluate Model Performance on Test set\n",
      "67/67 [==============================] - 2s 33ms/step - loss: 0.3487 - f1_metric: 0.8646\n",
      "{'loss': 0.3486964702606201, 'f1_metric': 0.8646203875541687}\n"
     ]
    }
   ],
   "source": [
    "print(\"Evaluate Model Performance on Test set\")\n",
    "result = model.evaluate(X_test,y_test)\n",
    "print(dict(zip(model.metrics_names, result)))"
   ]
  },
  {
   "cell_type": "code",
   "execution_count": 55,
   "metadata": {},
   "outputs": [
    {
     "name": "stdout",
     "output_type": "stream",
     "text": [
      "266/266 [==============================] - 11s 31ms/step\n",
      "67/67 [==============================] - 2s 31ms/step\n"
     ]
    }
   ],
   "source": [
    "mo = keras.Model(inputs = model.inputs, outputs = [model.layers[-2].output])\n",
    "\n",
    "\n",
    "    \n",
    "X_train = mo.predict(X_train)\n",
    "X_test = mo.predict(X_test)\n"
   ]
  },
  {
   "cell_type": "code",
   "execution_count": 56,
   "metadata": {},
   "outputs": [],
   "source": [
    "X_train = pd.DataFrame(X_train)\n",
    "X_test = pd.DataFrame(X_test)\n",
    "X_train.to_csv('XTrai.csv', index=False)\n",
    "X_test.to_csv('XTes.csv', index=False)\n",
    "y_train.to_csv('yTrai.csv', index=False)\n",
    "y_test.to_csv('yTes.csv', index=False)"
   ]
  },
  {
   "cell_type": "code",
   "execution_count": 57,
   "metadata": {},
   "outputs": [],
   "source": [
    "import numpy as np\n",
    "import pandas as pd\n",
    "from sklearn.svm import SVC\n",
    "import matplotlib.pyplot as plt\n",
    "import seaborn as sns\n",
    "from sklearn.ensemble import RandomForestClassifier\n",
    "from sklearn.neighbors import KNeighborsClassifier\n",
    "from sklearn.tree import DecisionTreeClassifier\n",
    "from sklearn.ensemble import AdaBoostClassifier\n",
    "from sklearn.metrics import accuracy_score, f1_score, recall_score, precision_score, confusion_matrix, classification_report\n",
    "import pickle\n",
    "\n",
    "\n"
   ]
  },
  {
   "cell_type": "code",
   "execution_count": 59,
   "metadata": {},
   "outputs": [],
   "source": [
    "X_train = pd.read_csv('XTrai.csv')\n",
    "X_test = pd.read_csv('XTes.csv')\n",
    "y_train = pd.read_csv('ytrai.csv')\n",
    "y_test = pd.read_csv('ytes.csv')\n",
    "\n",
    "\n"
   ]
  },
  {
   "cell_type": "code",
   "execution_count": 60,
   "metadata": {
    "scrolled": true
   },
   "outputs": [
    {
     "name": "stdout",
     "output_type": "stream",
     "text": [
      "----------\n",
      "RandomForestClassifier\n"
     ]
    },
    {
     "name": "stderr",
     "output_type": "stream",
     "text": [
      "<ipython-input-60-946145b75b5e>:5: DataConversionWarning: A column-vector y was passed when a 1d array was expected. Please change the shape of y to (n_samples,), for example using ravel().\n",
      "  rfc.fit(X_train, y_train)\n"
     ]
    },
    {
     "data": {
      "image/png": "[encoded data removed]",
      "text/plain": [
       "<Figure size 576x432 with 2 Axes>"
      ]
     },
     "metadata": {
      "needs_background": "light"
     },
     "output_type": "display_data"
    },
    {
     "name": "stdout",
     "output_type": "stream",
     "text": [
      "True: {'precision': 0.8809946714031972, 'recall': 0.852233676975945, 'f1-score': 0.8663755458515284, 'support': 1164}\n",
      "Fake: {'precision': 0.8278278278278278, 'recall': 0.8605619146722164, 'f1-score': 0.8438775510204082, 'support': 961}\n",
      "Overall: {'Accuracy': 0.856, 'recall': 0.852233676975945, 'f1-score': 0.8663755458515284, 'precision': 0.8809946714031972}\n"
     ]
    }
   ],
   "source": [
    "#random forest\n",
    "print('-'*10)\n",
    "print('RandomForestClassifier')\n",
    "rfc = RandomForestClassifier()\n",
    "rfc.fit(X_train, y_train)\n",
    "preds = rfc.predict(X_test)\n",
    "cm = confusion_matrix(y_test, preds)\n",
    "plt.figure(figsize=(8, 6))\n",
    "plt.title('Confusion Matrix', size=16)\n",
    "sns.heatmap(cm, annot=True, cmap='Blues')\n",
    "plt.show()\n",
    "report = classification_report(y_test, preds, output_dict=True)\n",
    "true = report['1']\n",
    "fake = report['0']\n",
    "overall = {\"Accuracy\": accuracy_score(y_test, preds), \"recall\": recall_score(y_test, preds),\n",
    "               \"f1-score\": f1_score(y_test, preds), \"precision\": precision_score(y_test, preds) }\n",
    "\n",
    "\n",
    "print(\"True:\", true)\n",
    "print(\"Fake:\", fake)\n",
    "print(\"Overall:\", overall)"
   ]
  },
  {
   "cell_type": "code",
   "execution_count": 61,
   "metadata": {},
   "outputs": [
    {
     "name": "stdout",
     "output_type": "stream",
     "text": [
      "----------\n",
      "AdaBoostClassifier\n"
     ]
    },
    {
     "name": "stderr",
     "output_type": "stream",
     "text": [
      "C:\\Users\\Harilal\\anaconda3\\lib\\site-packages\\sklearn\\utils\\validation.py:72: DataConversionWarning: A column-vector y was passed when a 1d array was expected. Please change the shape of y to (n_samples, ), for example using ravel().\n",
      "  return f(**kwargs)\n"
     ]
    },
    {
     "data": {
      "image/png": "[encoded data removed]",
      "text/plain": [
       "<Figure size 576x432 with 2 Axes>"
      ]
     },
     "metadata": {
      "needs_background": "light"
     },
     "output_type": "display_data"
    },
    {
     "name": "stdout",
     "output_type": "stream",
     "text": [
      "True: {'precision': 0.8919164396003633, 'recall': 0.8436426116838488, 'f1-score': 0.8671081677704194, 'support': 1164}\n",
      "Fake: {'precision': 0.822265625, 'recall': 0.8761706555671176, 'f1-score': 0.8483627204030227, 'support': 961}\n",
      "Overall: {'Accuracy': 0.8583529411764705, 'recall': 0.8436426116838488, 'f1-score': 0.8671081677704194, 'precision': 0.8919164396003633}\n"
     ]
    }
   ],
   "source": [
    "print('-'*10)\n",
    "print('AdaBoostClassifier')\n",
    "abc = AdaBoostClassifier()\n",
    "abc.fit(X_train, y_train)\n",
    "preds = abc.predict(X_test)\n",
    "cm = confusion_matrix(y_test, preds)\n",
    "plt.figure(figsize=(8, 6))\n",
    "plt.title('Confusion Matrix', size=16)\n",
    "sns.heatmap(cm, annot=True, cmap='Blues')\n",
    "plt.show()\n",
    "report = classification_report(y_test, preds, output_dict=True)\n",
    "true = report['1']\n",
    "fake = report['0']\n",
    "overall = {\"Accuracy\": accuracy_score(y_test, preds), \"recall\": recall_score(y_test, preds),\n",
    "               \"f1-score\": f1_score(y_test, preds), \"precision\": precision_score(y_test, preds) }\n",
    "\n",
    "\n",
    "\n",
    "print(\"True:\", true)\n",
    "print(\"Fake:\", fake)\n",
    "print(\"Overall:\", overall)"
   ]
  },
  {
   "cell_type": "code",
   "execution_count": 62,
   "metadata": {},
   "outputs": [],
   "source": [
    "# Predicting the sentiment of any text\n",
    "\n",
    "def predict_sentiment(text):\n",
    "    print(text)\n",
    "  # preprocessing the given text \n",
    "    text_seq = tokenizer.texts_to_sequences(text)\n",
    "    text_pad = pad_sequences(text_seq, maxlen=T)\n",
    "  \n",
    "  # predicting the class\n",
    "    predicted_sentiment = model.predict(text_pad).round()\n",
    "  \n",
    "\n",
    "    if predicted_sentiment == 1.0:\n",
    "        return('It is a positive sentiment')\n",
    "    else:\n",
    "        return('It is a negative sentiment')\n",
    "\n",
    "\n",
    "\n",
    "# saving the model for future purpose\n",
    "model.save('sentiment analysis.h5')   # creates HDF5 file for model"
   ]
  },
  {
   "cell_type": "code",
   "execution_count": 63,
   "metadata": {},
   "outputs": [
    {
     "name": "stdout",
     "output_type": "stream",
     "text": [
      "['Keh to aese Rahe ho Jaise Pakistan wale Ni karte South Africa se Hara na Bharat to chain ap logon ne bhi Ni Lena']\n",
      "1/1 [==============================] - 3s 3s/step\n"
     ]
    },
    {
     "data": {
      "text/plain": [
       "'It is a negative sentiment'"
      ]
     },
     "execution_count": 63,
     "metadata": {},
     "output_type": "execute_result"
    }
   ],
   "source": [
    "text = ['Keh to aese Rahe ho Jaise Pakistan wale Ni karte South Africa se Hara na Bharat to chain ap logon ne bhi Ni Lena']\n",
    "predict_sentiment(text)"
   ]
  },
  {
   "cell_type": "code",
   "execution_count": 64,
   "metadata": {},
   "outputs": [
    {
     "name": "stdout",
     "output_type": "stream",
     "text": [
      "['I love you forever ']\n",
      "1/1 [==============================] - 0s 69ms/step\n"
     ]
    },
    {
     "data": {
      "text/plain": [
       "'It is a positive sentiment'"
      ]
     },
     "execution_count": 64,
     "metadata": {},
     "output_type": "execute_result"
    }
   ],
   "source": [
    "text = ['I love you forever ']\n",
    "predict_sentiment(text)"
   ]
  },
  {
   "cell_type": "code",
   "execution_count": 65,
   "metadata": {},
   "outputs": [
    {
     "name": "stdout",
     "output_type": "stream",
     "text": [
      "['Narender modi ji ko pure bhumat se jeet par bhut bhut bdhayi']\n",
      "1/1 [==============================] - 0s 70ms/step\n"
     ]
    },
    {
     "data": {
      "text/plain": [
       "'It is a positive sentiment'"
      ]
     },
     "execution_count": 65,
     "metadata": {},
     "output_type": "execute_result"
    }
   ],
   "source": [
    "text = ['Narender modi ji ko pure bhumat se jeet par bhut bhut bdhayi']\n",
    "predict_sentiment(text)"
   ]
  },
  {
   "cell_type": "code",
   "execution_count": 66,
   "metadata": {},
   "outputs": [
    {
     "name": "stdout",
     "output_type": "stream",
     "text": [
      "['what the fuck']\n",
      "1/1 [==============================] - 0s 62ms/step\n"
     ]
    },
    {
     "data": {
      "text/plain": [
       "'It is a negative sentiment'"
      ]
     },
     "execution_count": 66,
     "metadata": {},
     "output_type": "execute_result"
    }
   ],
   "source": [
    "text = ['what the fuck']\n",
    "predict_sentiment(text)"
   ]
  },
  {
   "cell_type": "code",
   "execution_count": 30,
   "metadata": {},
   "outputs": [
    {
     "name": "stdout",
     "output_type": "stream",
     "text": [
      "['tum bhut funny ho\\n\\nmajak krna kha se\\nsikha?\\n\\nMe - Zindagi se']\n",
      "1/1 [==============================] - 0s 51ms/step\n"
     ]
    },
    {
     "data": {
      "text/plain": [
       "'It is a negative sentiment'"
      ]
     },
     "execution_count": 30,
     "metadata": {},
     "output_type": "execute_result"
    }
   ],
   "source": [
    "text = ['tum bhut funny ho\\n\\nmajak krna kha se\\nsikha?\\n\\nMe - Zindagi se']\n",
    "predict_sentiment(text)"
   ]
  },
  {
   "cell_type": "code",
   "execution_count": null,
   "metadata": {},
   "outputs": [],
   "source": []
  },
  {
   "cell_type": "code",
   "execution_count": null,
   "metadata": {},
   "outputs": [],
   "source": []
  },
  {
   "cell_type": "code",
   "execution_count": null,
   "metadata": {},
   "outputs": [],
   "source": []
  },
  {
   "cell_type": "code",
   "execution_count": null,
   "metadata": {},
   "outputs": [],
   "source": []
  },
  {
   "cell_type": "code",
   "execution_count": null,
   "metadata": {},
   "outputs": [],
   "source": []
  }
 ],
 "metadata": {
  "kernelspec": {
   "display_name": "Python 3",
   "language": "python",
   "name": "python3"
  },
  "language_info": {
   "codemirror_mode": {
    "name": "ipython",
    "version": 3
   },
   "file_extension": ".py",
   "mimetype": "text/x-python",
   "name": "python",
   "nbconvert_exporter": "python",
   "pygments_lexer": "ipython3",
   "version": "3.8.5"
  }
 },
 "nbformat": 4,
 "nbformat_minor": 5
}
